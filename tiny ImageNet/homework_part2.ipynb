{
  "nbformat": 4,
  "nbformat_minor": 0,
  "metadata": {
    "accelerator": "GPU",
    "colab": {
      "name": "homework_part2.ipynb",
      "provenance": [],
      "collapsed_sections": [],
      "toc_visible": true
    },
    "kernelspec": {
      "display_name": "Python 3",
      "language": "python",
      "name": "python3"
    },
    "language_info": {
      "codemirror_mode": {
        "name": "ipython",
        "version": 3
      },
      "file_extension": ".py",
      "mimetype": "text/x-python",
      "name": "python",
      "nbconvert_exporter": "python",
      "pygments_lexer": "ipython3",
      "version": "3.7.4"
    }
  },
  "cells": [
    {
      "cell_type": "markdown",
      "metadata": {
        "collapsed": true,
        "id": "Clu26x2HmwpH"
      },
      "source": [
        "# Homework 2.2: The Quest For A Better Network\n",
        "\n",
        "In this assignment you will build a monster network to solve Tiny ImageNet image classification.\n",
        "\n",
        "This notebook is intended as a sequel to seminar 3, please give it a try if you haven't done so yet."
      ]
    },
    {
      "cell_type": "markdown",
      "metadata": {
        "id": "sj18ytMNmwpJ"
      },
      "source": [
        "(please read it at least diagonally)\n",
        "\n",
        "* The ultimate quest is to create a network that has as high __accuracy__ as you can push it.\n",
        "* There is a __mini-report__ at the end that you will have to fill in. We recommend reading it first and filling it while you iterate.\n",
        " \n",
        "## Grading\n",
        "* starting at zero points\n",
        "* +20% for describing your iteration path in a report below.\n",
        "* +20% for building a network that gets above 20% accuracy\n",
        "* +10% for beating each of these milestones on __TEST__ dataset:\n",
        "    * 25% (50% points)\n",
        "    * 30% (60% points)\n",
        "    * 32.5% (70% points)\n",
        "    * 35% (80% points)\n",
        "    * 37.5% (90% points)\n",
        "    * 40% (full points)\n",
        "    \n",
        "## Restrictions\n",
        "* Please do NOT use pre-trained networks for this assignment until you reach 40%.\n",
        " * In other words, base milestones must be beaten without pre-trained nets (and such net must be present in the anytask atttachments). After that, you can use whatever you want.\n",
        "* you __can't__ do anything with validation data apart from running the evaluation procedure. Please, split train images on train and validation parts\n",
        "\n",
        "## Tips on what can be done:\n",
        "\n",
        "\n",
        " * __Network size__\n",
        "   * MOAR neurons, \n",
        "   * MOAR layers, ([torch.nn docs](http://pytorch.org/docs/master/nn.html))\n",
        "\n",
        "   * Nonlinearities in the hidden layers\n",
        "     * tanh, relu, leaky relu, etc\n",
        "   * Larger networks may take more epochs to train, so don't discard your net just because it could didn't beat the baseline in 5 epochs.\n",
        "\n",
        "   * Ph'nglui mglw'nafh Cthulhu R'lyeh wgah'nagl fhtagn!\n",
        "\n",
        "\n",
        "### The main rule of prototyping: one change at a time\n",
        "   * By now you probably have several ideas on what to change. By all means, try them out! But there's a catch: __never test several new things at once__.\n",
        "\n",
        "\n",
        "### Optimization\n",
        "   * Training for 100 epochs regardless of anything is probably a bad idea.\n",
        "   * Some networks converge over 5 epochs, others - over 500.\n",
        "   * Way to go: stop when validation score is 10 iterations past maximum\n",
        "   * You should certainly use adaptive optimizers\n",
        "     * rmsprop, nesterov_momentum, adam, adagrad and so on.\n",
        "     * Converge faster and sometimes reach better optima\n",
        "     * It might make sense to tweak learning rate/momentum, other learning parameters, batch size and number of epochs\n",
        "   * __BatchNormalization__ (nn.BatchNorm2d) for the win!\n",
        "     * Sometimes more batch normalization is better.\n",
        "   * __Regularize__ to prevent overfitting\n",
        "     * Add some L2 weight norm to the loss function, PyTorch will do the rest\n",
        "       * Can be done manually or like [this](https://discuss.pytorch.org/t/simple-l2-regularization/139/2).\n",
        "     * Dropout (`nn.Dropout`) - to prevent overfitting\n",
        "       * Don't overdo it. Check if it actually makes your network better\n",
        "   \n",
        "### Convolution architectures\n",
        "   * This task __can__ be solved by a sequence of convolutions and poolings with batch_norm and ReLU seasoning, but you shouldn't necessarily stop there.\n",
        "   * [Inception family](https://hacktilldawn.com/2016/09/25/inception-modules-explained-and-implemented/), [ResNet family](https://towardsdatascience.com/an-overview-of-resnet-and-its-variants-5281e2f56035?gi=9018057983ca), [Densely-connected convolutions (exotic)](https://arxiv.org/abs/1608.06993), [Capsule networks (exotic)](https://arxiv.org/abs/1710.09829)\n",
        "   * Please do try a few simple architectures before you go for resnet-152.\n",
        "   * Warning! Training convolutional networks can take long without GPU. That's okay.\n",
        "     * If you are CPU-only, we still recomment that you try a simple convolutional architecture\n",
        "     * a perfect option is if you can set it up to run at nighttime and check it up at the morning.\n",
        "     * Make reasonable layer size estimates. A 128-neuron first convolution is likely an overkill.\n",
        "     * __To reduce computation__ time by a factor in exchange for some accuracy drop, try using __stride__ parameter. A stride=2 convolution should take roughly 1/4 of the default (stride=1) one.\n",
        " \n",
        "   \n",
        "### Data augmemntation\n",
        "   * getting 5x as large dataset for free is a great \n",
        "     * Zoom-in+slice = move\n",
        "     * Rotate+zoom(to remove black stripes)\n",
        "     * Add Noize (gaussian or bernoulli)\n",
        "   * Simple way to do that (if you have PIL/Image): \n",
        "     * ```from scipy.misc import imrotate,imresize```\n",
        "     * and a few slicing\n",
        "     * Other cool libraries: cv2, skimake, PIL/Pillow\n",
        "   * A more advanced way is to use torchvision transforms:\n",
        "    ```\n",
        "    transform_train = transforms.Compose([\n",
        "        transforms.RandomCrop(32, padding=4),\n",
        "        transforms.RandomHorizontalFlip(),\n",
        "        transforms.ToTensor(),\n",
        "        transforms.Normalize((0.4914, 0.4822, 0.4465), (0.2023, 0.1994, 0.2010)),\n",
        "    ])\n",
        "    trainset = torchvision.datasets.ImageFolder(root=path_to_tiny_imagenet, train=True, download=True, transform=transform_train)\n",
        "    trainloader = torch.utils.data.DataLoader(trainset, batch_size=128, shuffle=True, num_workers=2)\n",
        "\n",
        "    ```\n",
        "   * Or use this tool from Keras (requires theano/tensorflow): [tutorial](https://blog.keras.io/building-powerful-image-classification-models-using-very-little-data.html), [docs](https://keras.io/preprocessing/image/)\n",
        "   * Stay realistic. There's usually no point in flipping dogs upside down as that is not the way you usually see them.\n",
        "   \n"
      ]
    },
    {
      "cell_type": "code",
      "metadata": {
        "id": "-1ObsaGVmwpK"
      },
      "source": [
        "import numpy as np\n",
        "import matplotlib.pyplot as plt\n",
        "%matplotlib inline"
      ],
      "execution_count": null,
      "outputs": []
    },
    {
      "cell_type": "code",
      "metadata": {
        "id": "VT-e1gt8mwpO",
        "scrolled": true,
        "colab": {
          "base_uri": "https://localhost:8080/",
          "height": 34
        },
        "outputId": "e6c75b84-fa6e-4e49-e015-59a646ea50c8"
      },
      "source": [
        "from tiny_img import download_tinyImg200\n",
        "data_path = '.'\n",
        "download_tinyImg200(data_path)"
      ],
      "execution_count": null,
      "outputs": [
        {
          "output_type": "stream",
          "text": [
            "./tiny-imagenet-200.zip\n"
          ],
          "name": "stdout"
        }
      ]
    },
    {
      "cell_type": "code",
      "metadata": {
        "id": "69P3eRfimwpX"
      },
      "source": [
        "train_folder = 'tiny-imagenet-200/train'\n",
        "test_folder = 'tiny-imagenet-200/val'\n",
        "test_annotations_file = 'val_annotations.txt'\n",
        "\n",
        "batch_size = 250"
      ],
      "execution_count": null,
      "outputs": []
    },
    {
      "cell_type": "code",
      "metadata": {
        "id": "R-pyjP_Qmwpc"
      },
      "source": [
        "from pathlib import Path\n",
        "import pandas as pd\n",
        "import os\n",
        "\n",
        "def get_train_labels(some_folder):\n",
        "    annotations_dir = Path(some_folder)\n",
        "    for folder in annotations_dir.iterdir():     \n",
        "        for jpg_file in folder.glob('**/*.JPEG'):\n",
        "            yield str(jpg_file), str(folder.name)\n",
        "            \n",
        "def get_test_labels(some_folder, annotations_file):\n",
        "    filepath = os.path.join(some_folder, annotations_file)\n",
        "    df = pd.read_csv(filepath, header=None, sep='\\t')\n",
        "    annotations_dir = Path(some_folder)     \n",
        "    for jpg_file in annotations_dir.glob('**/*.JPEG'):\n",
        "        class_name = df[df[0] == jpg_file.name][1]\n",
        "        yield str(jpg_file), class_name.to_string(index=False)\n",
        "        \n",
        "train_img_metadata = pd.DataFrame(get_train_labels(train_folder), columns=['filename', 'labels'])\n",
        "test_img_metadata = pd.DataFrame(get_test_labels(test_folder, test_annotations_file), columns=['filename', 'labels'])"
      ],
      "execution_count": null,
      "outputs": []
    },
    {
      "cell_type": "code",
      "metadata": {
        "id": "ptptQ5Vymwpf"
      },
      "source": [
        "from keras.applications.resnet50 import preprocess_input\n",
        "\n",
        "def preprocessing(img):\n",
        "    #img = preprocess_input(img)\n",
        "    return img"
      ],
      "execution_count": null,
      "outputs": []
    },
    {
      "cell_type": "code",
      "metadata": {
        "code_folding": [],
        "id": "LFreRI4Smwpi",
        "colab": {
          "base_uri": "https://localhost:8080/",
          "height": 50
        },
        "outputId": "f9b352a5-272c-48d9-95fa-1348654ea452"
      },
      "source": [
        "from keras.preprocessing.image import ImageDataGenerator\n",
        "\n",
        "train_datagen = ImageDataGenerator(\n",
        "    rescale=1./255,\n",
        "    shear_range=10,\n",
        "    zoom_range=0.2,\n",
        "    horizontal_flip=True,\n",
        "    preprocessing_function=preprocessing)\n",
        "\n",
        "train_generator = train_datagen.flow_from_dataframe(\n",
        "    train_img_metadata,\n",
        "    shuffle=True,\n",
        "    batch_size=batch_size,\n",
        "    class_mode='categorical',\n",
        "    color_mode='rgb',\n",
        "    x_col='filename',\n",
        "    y_col='labels',\n",
        "    target_size=(64, 64))\n",
        "\n",
        "test_datagen = ImageDataGenerator(\n",
        "    rescale=1./255,\n",
        "    preprocessing_function=preprocessing)\n",
        "\n",
        "test_generator = test_datagen.flow_from_dataframe(\n",
        "    test_img_metadata,\n",
        "    shuffle=False,\n",
        "    batch_size=batch_size,\n",
        "    class_mode='categorical',\n",
        "    color_mode='rgb',\n",
        "    x_col='filename',\n",
        "    y_col='labels',\n",
        "    target_size=(64, 64))"
      ],
      "execution_count": null,
      "outputs": [
        {
          "output_type": "stream",
          "text": [
            "Found 100000 validated image filenames belonging to 200 classes.\n",
            "Found 10000 validated image filenames belonging to 200 classes.\n"
          ],
          "name": "stdout"
        }
      ]
    },
    {
      "cell_type": "code",
      "metadata": {
        "id": "jXJGam25mwpn",
        "colab": {
          "base_uri": "https://localhost:8080/",
          "height": 265
        },
        "outputId": "5c521370-438f-4063-ac45-7a5f922c96af"
      },
      "source": [
        "plt.imshow(test_generator[0][0][0])\n",
        "plt.axis(\"off\")\n",
        "print(test_generator[0][0][0].shape)"
      ],
      "execution_count": null,
      "outputs": [
        {
          "output_type": "stream",
          "text": [
            "(64, 64, 3)\n"
          ],
          "name": "stdout"
        },
        {
          "output_type": "display_data",
          "data": {
            "image/png": "[encoded data removed]",
            "text/plain": [
              "<Figure size 432x288 with 1 Axes>"
            ]
          },
          "metadata": {
            "tags": [],
            "needs_background": "light"
          }
        }
      ]
    },
    {
      "cell_type": "code",
      "metadata": {
        "id": "-p19bBmjmwps"
      },
      "source": [
        "from keras.models import Sequential\n",
        "from keras.layers import Dense\n",
        "from keras.optimizers import Adam\n",
        "from keras.layers.normalization import BatchNormalization\n",
        "from keras.layers import Activation, Flatten, Dropout\n",
        "from keras.layers.convolutional import Conv2D, MaxPooling2D, ZeroPadding2D\n",
        "from keras.regularizers import l2"
      ],
      "execution_count": null,
      "outputs": []
    },
    {
      "cell_type": "code",
      "metadata": {
        "id": "J4R4u-s5mwpv"
      },
      "source": [
        "def my_model(input_shape=(64, 64, 3), output_len=200):\n",
        "    model = Sequential()\n",
        "\n",
        "    model.add(ZeroPadding2D((2, 2), input_shape=input_shape))\n",
        "    model.add(Conv2D(128, (7, 7), padding='same'))\n",
        "    model.add(BatchNormalization())\n",
        "    model.add(Activation('relu'))\n",
        "    model.add(MaxPooling2D(pool_size=(2, 2)))\n",
        "\n",
        "    model.add(ZeroPadding2D((1, 1)))\n",
        "    model.add(Conv2D(128, (5, 5),padding='same'))\n",
        "    model.add(BatchNormalization())\n",
        "    model.add(Activation('relu'))     \n",
        "\n",
        "    model.add(ZeroPadding2D((1, 1)))\n",
        "    model.add(Conv2D(128, (3, 3),padding='same'))\n",
        "    model.add(BatchNormalization())\n",
        "    model.add(Activation('relu')) \n",
        "    model.add(MaxPooling2D(pool_size=(2, 2), strides=(2, 2)))\n",
        "\n",
        "    model.add(ZeroPadding2D((1, 1)))\n",
        "    model.add(Conv2D(256, (3, 3),padding='same'))\n",
        "    model.add(BatchNormalization())\n",
        "    model.add(Activation('relu')) \n",
        "\n",
        "    model.add(ZeroPadding2D((1, 1)))\n",
        "    model.add(Conv2D(256, (3, 3),padding='same'))\n",
        "    model.add(BatchNormalization())\n",
        "    model.add(Activation('relu')) \n",
        "    model.add(MaxPooling2D(pool_size=(2, 2), strides=(2, 2)))\n",
        "\n",
        "    model.add(ZeroPadding2D((1, 1)))\n",
        "    model.add(Conv2D(512, (3, 3), padding='same'))\n",
        "    model.add(BatchNormalization())\n",
        "    model.add(Activation('relu'))\n",
        "    model.add(MaxPooling2D(pool_size=(2, 2), strides=(2, 2)))\n",
        "\n",
        "    model.add(Flatten())\n",
        "    model.add(Dense(2048))\n",
        "    model.add(BatchNormalization())\n",
        "    model.add(Activation('relu'))\n",
        "    model.add(Dropout(0.5))\n",
        "\n",
        "    model.add(Dense(2048))\n",
        "    model.add(BatchNormalization())\n",
        "    model.add(Activation('relu'))\n",
        "    model.add(Dropout(0.5))\n",
        "\n",
        "    model.add(Dense(output_len))\n",
        "    model.add(BatchNormalization())\n",
        "    model.add(Activation('softmax'))\n",
        "    model.compile(Adam(lr = 0.01), loss = 'categorical_crossentropy', metrics=['accuracy'])\n",
        "    \n",
        "    return model"
      ],
      "execution_count": null,
      "outputs": []
    },
    {
      "cell_type": "code",
      "metadata": {
        "id": "OkygMpaHmwpy",
        "colab": {
          "base_uri": "https://localhost:8080/",
          "height": 1000
        },
        "outputId": "b093f732-0137-4ee9-cccf-fc3e23a76331"
      },
      "source": [
        "model = my_model()\n",
        "model.summary()"
      ],
      "execution_count": null,
      "outputs": [
        {
          "output_type": "stream",
          "text": [
            "Model: \"sequential\"\n",
            "_________________________________________________________________\n",
            "Layer (type)                 Output Shape              Param #   \n",
            "=================================================================\n",
            "zero_padding2d (ZeroPadding2 (None, 68, 68, 3)         0         \n",
            "_________________________________________________________________\n",
            "conv2d (Conv2D)              (None, 68, 68, 128)       18944     \n",
            "_________________________________________________________________\n",
            "batch_normalization (BatchNo (None, 68, 68, 128)       512       \n",
            "_________________________________________________________________\n",
            "activation (Activation)      (None, 68, 68, 128)       0         \n",
            "_________________________________________________________________\n",
            "max_pooling2d (MaxPooling2D) (None, 34, 34, 128)       0         \n",
            "_________________________________________________________________\n",
            "zero_padding2d_1 (ZeroPaddin (None, 36, 36, 128)       0         \n",
            "_________________________________________________________________\n",
            "conv2d_1 (Conv2D)            (None, 36, 36, 128)       409728    \n",
            "_________________________________________________________________\n",
            "batch_normalization_1 (Batch (None, 36, 36, 128)       512       \n",
            "_________________________________________________________________\n",
            "activation_1 (Activation)    (None, 36, 36, 128)       0         \n",
            "_________________________________________________________________\n",
            "zero_padding2d_2 (ZeroPaddin (None, 38, 38, 128)       0         \n",
            "_________________________________________________________________\n",
            "conv2d_2 (Conv2D)            (None, 38, 38, 128)       147584    \n",
            "_________________________________________________________________\n",
            "batch_normalization_2 (Batch (None, 38, 38, 128)       512       \n",
            "_________________________________________________________________\n",
            "activation_2 (Activation)    (None, 38, 38, 128)       0         \n",
            "_________________________________________________________________\n",
            "max_pooling2d_1 (MaxPooling2 (None, 19, 19, 128)       0         \n",
            "_________________________________________________________________\n",
            "zero_padding2d_3 (ZeroPaddin (None, 21, 21, 128)       0         \n",
            "_________________________________________________________________\n",
            "conv2d_3 (Conv2D)            (None, 21, 21, 256)       295168    \n",
            "_________________________________________________________________\n",
            "batch_normalization_3 (Batch (None, 21, 21, 256)       1024      \n",
            "_________________________________________________________________\n",
            "activation_3 (Activation)    (None, 21, 21, 256)       0         \n",
            "_________________________________________________________________\n",
            "zero_padding2d_4 (ZeroPaddin (None, 23, 23, 256)       0         \n",
            "_________________________________________________________________\n",
            "conv2d_4 (Conv2D)            (None, 23, 23, 256)       590080    \n",
            "_________________________________________________________________\n",
            "batch_normalization_4 (Batch (None, 23, 23, 256)       1024      \n",
            "_________________________________________________________________\n",
            "activation_4 (Activation)    (None, 23, 23, 256)       0         \n",
            "_________________________________________________________________\n",
            "max_pooling2d_2 (MaxPooling2 (None, 11, 11, 256)       0         \n",
            "_________________________________________________________________\n",
            "zero_padding2d_5 (ZeroPaddin (None, 13, 13, 256)       0         \n",
            "_________________________________________________________________\n",
            "conv2d_5 (Conv2D)            (None, 13, 13, 512)       1180160   \n",
            "_________________________________________________________________\n",
            "batch_normalization_5 (Batch (None, 13, 13, 512)       2048      \n",
            "_________________________________________________________________\n",
            "activation_5 (Activation)    (None, 13, 13, 512)       0         \n",
            "_________________________________________________________________\n",
            "max_pooling2d_3 (MaxPooling2 (None, 6, 6, 512)         0         \n",
            "_________________________________________________________________\n",
            "flatten (Flatten)            (None, 18432)             0         \n",
            "_________________________________________________________________\n",
            "dense (Dense)                (None, 2048)              37750784  \n",
            "_________________________________________________________________\n",
            "batch_normalization_6 (Batch (None, 2048)              8192      \n",
            "_________________________________________________________________\n",
            "activation_6 (Activation)    (None, 2048)              0         \n",
            "_________________________________________________________________\n",
            "dropout (Dropout)            (None, 2048)              0         \n",
            "_________________________________________________________________\n",
            "dense_1 (Dense)              (None, 2048)              4196352   \n",
            "_________________________________________________________________\n",
            "batch_normalization_7 (Batch (None, 2048)              8192      \n",
            "_________________________________________________________________\n",
            "activation_7 (Activation)    (None, 2048)              0         \n",
            "_________________________________________________________________\n",
            "dropout_1 (Dropout)          (None, 2048)              0         \n",
            "_________________________________________________________________\n",
            "dense_2 (Dense)              (None, 200)               409800    \n",
            "_________________________________________________________________\n",
            "batch_normalization_8 (Batch (None, 200)               800       \n",
            "_________________________________________________________________\n",
            "activation_8 (Activation)    (None, 200)               0         \n",
            "=================================================================\n",
            "Total params: 45,021,416\n",
            "Trainable params: 45,010,008\n",
            "Non-trainable params: 11,408\n",
            "_________________________________________________________________\n"
          ],
          "name": "stdout"
        }
      ]
    },
    {
      "cell_type": "code",
      "metadata": {
        "id": "MI4ANfnOmwp1",
        "colab": {
          "base_uri": "https://localhost:8080/",
          "height": 944
        },
        "outputId": "389a9110-a4db-4125-b489-9dcccdd1c90c"
      },
      "source": [
        "history = model.fit_generator(\n",
        "    generator=train_generator,\n",
        "    epochs=25,\n",
        "    validation_data=test_generator,\n",
        "    verbose=1)"
      ],
      "execution_count": null,
      "outputs": [
        {
          "output_type": "stream",
          "text": [
            "WARNING:tensorflow:From <ipython-input-13-7b61576168c3>:5: Model.fit_generator (from tensorflow.python.keras.engine.training) is deprecated and will be removed in a future version.\n",
            "Instructions for updating:\n",
            "Please use Model.fit, which supports generators.\n",
            "Epoch 1/25\n",
            "  2/400 [..............................] - ETA: 1:13 - loss: 5.7506 - accuracy: 0.0040  WARNING:tensorflow:Callbacks method `on_train_batch_end` is slow compared to the batch time (batch time: 0.1410s vs `on_train_batch_end` time: 0.2300s). Check your callbacks.\n",
            "400/400 [==============================] - 192s 479ms/step - loss: 4.6878 - accuracy: 0.0582 - val_loss: 8.7168 - val_accuracy: 0.0232\n",
            "Epoch 2/25\n",
            "400/400 [==============================] - 189s 474ms/step - loss: 3.8483 - accuracy: 0.1601 - val_loss: 4.2301 - val_accuracy: 0.1315\n",
            "Epoch 3/25\n",
            "400/400 [==============================] - 190s 476ms/step - loss: 3.4418 - accuracy: 0.2227 - val_loss: 3.8264 - val_accuracy: 0.1768\n",
            "Epoch 4/25\n",
            "400/400 [==============================] - 189s 474ms/step - loss: 3.1775 - accuracy: 0.2680 - val_loss: 3.5422 - val_accuracy: 0.2202\n",
            "Epoch 5/25\n",
            "400/400 [==============================] - 186s 465ms/step - loss: 2.9522 - accuracy: 0.3094 - val_loss: 3.2054 - val_accuracy: 0.2687\n",
            "Epoch 6/25\n",
            "400/400 [==============================] - 186s 464ms/step - loss: 2.7781 - accuracy: 0.3399 - val_loss: 3.5154 - val_accuracy: 0.2391\n",
            "Epoch 7/25\n",
            "400/400 [==============================] - 188s 470ms/step - loss: 2.6264 - accuracy: 0.3693 - val_loss: 3.7494 - val_accuracy: 0.2112\n",
            "Epoch 8/25\n",
            "400/400 [==============================] - 187s 467ms/step - loss: 2.4844 - accuracy: 0.3984 - val_loss: 3.8101 - val_accuracy: 0.1982\n",
            "Epoch 9/25\n",
            "400/400 [==============================] - 185s 463ms/step - loss: 2.3688 - accuracy: 0.4203 - val_loss: 2.8795 - val_accuracy: 0.3384\n",
            "Epoch 10/25\n",
            "400/400 [==============================] - 185s 463ms/step - loss: 2.2494 - accuracy: 0.4442 - val_loss: 3.0447 - val_accuracy: 0.3188\n",
            "Epoch 11/25\n",
            "400/400 [==============================] - 188s 470ms/step - loss: 2.1519 - accuracy: 0.4642 - val_loss: 2.8430 - val_accuracy: 0.3412\n",
            "Epoch 12/25\n",
            "400/400 [==============================] - 189s 473ms/step - loss: 2.0565 - accuracy: 0.4827 - val_loss: 2.7851 - val_accuracy: 0.3624\n",
            "Epoch 13/25\n",
            "400/400 [==============================] - 190s 476ms/step - loss: 1.9662 - accuracy: 0.5023 - val_loss: 2.7176 - val_accuracy: 0.3795\n",
            "Epoch 14/25\n",
            "400/400 [==============================] - 190s 474ms/step - loss: 1.8759 - accuracy: 0.5214 - val_loss: 2.6650 - val_accuracy: 0.3766\n",
            "Epoch 15/25\n",
            "400/400 [==============================] - 189s 472ms/step - loss: 1.7867 - accuracy: 0.5415 - val_loss: 3.3153 - val_accuracy: 0.2850\n",
            "Epoch 16/25\n",
            "400/400 [==============================] - 190s 475ms/step - loss: 1.7169 - accuracy: 0.5560 - val_loss: 2.7357 - val_accuracy: 0.3713\n",
            "Epoch 17/25\n",
            "400/400 [==============================] - 191s 478ms/step - loss: 1.6351 - accuracy: 0.5720 - val_loss: 2.5421 - val_accuracy: 0.4147\n",
            "Epoch 18/25\n",
            "400/400 [==============================] - 187s 467ms/step - loss: 1.5744 - accuracy: 0.5824 - val_loss: 2.6131 - val_accuracy: 0.3990\n",
            "Epoch 19/25\n",
            "400/400 [==============================] - 185s 463ms/step - loss: 1.4966 - accuracy: 0.6018 - val_loss: 2.4519 - val_accuracy: 0.4296\n",
            "Epoch 20/25\n",
            "400/400 [==============================] - 185s 462ms/step - loss: 1.4337 - accuracy: 0.6154 - val_loss: 3.0878 - val_accuracy: 0.3472\n",
            "Epoch 21/25\n",
            "400/400 [==============================] - 185s 462ms/step - loss: 1.3535 - accuracy: 0.6333 - val_loss: 2.3965 - val_accuracy: 0.4470\n",
            "Epoch 22/25\n",
            "400/400 [==============================] - 185s 462ms/step - loss: 1.3017 - accuracy: 0.6470 - val_loss: 2.6603 - val_accuracy: 0.4066\n",
            "Epoch 23/25\n",
            "400/400 [==============================] - 185s 462ms/step - loss: 1.2506 - accuracy: 0.6577 - val_loss: 2.4442 - val_accuracy: 0.4408\n",
            "Epoch 24/25\n",
            "400/400 [==============================] - 185s 462ms/step - loss: 1.1889 - accuracy: 0.6728 - val_loss: 2.6727 - val_accuracy: 0.4095\n",
            "Epoch 25/25\n",
            "400/400 [==============================] - 184s 461ms/step - loss: 1.1432 - accuracy: 0.6843 - val_loss: 2.6375 - val_accuracy: 0.4243\n"
          ],
          "name": "stdout"
        }
      ]
    },
    {
      "cell_type": "code",
      "metadata": {
        "id": "XPv5zeE_mwp4",
        "colab": {
          "base_uri": "https://localhost:8080/",
          "height": 312
        },
        "outputId": "27e2b195-371e-4e1a-ec10-e0545424f5bb"
      },
      "source": [
        "plt.plot(history.history['loss'])\n",
        "plt.plot(history.history['val_loss'])\n",
        "plt.legend(['loss', 'val_loss'])\n",
        "plt.title('Loss')\n",
        "plt.xlabel('epoch')"
      ],
      "execution_count": null,
      "outputs": [
        {
          "output_type": "execute_result",
          "data": {
            "text/plain": [
              "Text(0.5, 0, 'epoch')"
            ]
          },
          "metadata": {
            "tags": []
          },
          "execution_count": 18
        },
        {
          "output_type": "display_data",
          "data": {
            "image/png": "[encoded data removed]",
            "text/plain": [
              "<Figure size 432x288 with 1 Axes>"
            ]
          },
          "metadata": {
            "tags": [],
            "needs_background": "light"
          }
        }
      ]
    },
    {
      "cell_type": "code",
      "metadata": {
        "id": "dOKSH7j1mwp7",
        "colab": {
          "base_uri": "https://localhost:8080/",
          "height": 312
        },
        "outputId": "24cf74fb-af3b-41e0-bdd6-8d8659b7c8e5"
      },
      "source": [
        "plt.plot(history.history['accuracy'])\n",
        "plt.plot(history.history['val_accuracy'])\n",
        "plt.legend(['accuracy', 'val_accuracy'])\n",
        "plt.title('Accuracy')\n",
        "plt.xlabel('epoch')"
      ],
      "execution_count": null,
      "outputs": [
        {
          "output_type": "execute_result",
          "data": {
            "text/plain": [
              "Text(0.5, 0, 'epoch')"
            ]
          },
          "metadata": {
            "tags": []
          },
          "execution_count": 23
        },
        {
          "output_type": "display_data",
          "data": {
            "image/png": "[encoded data removed]",
            "text/plain": [
              "<Figure size 432x288 with 1 Axes>"
            ]
          },
          "metadata": {
            "tags": [],
            "needs_background": "light"
          }
        }
      ]
    },
    {
      "cell_type": "markdown",
      "metadata": {
        "id": "z1JmyXnlmwp-"
      },
      "source": [
        "When everything is done, please calculate accuracy on `tiny-imagenet-200/val`"
      ]
    },
    {
      "cell_type": "code",
      "metadata": {
        "id": "RgBYReMTmwp_"
      },
      "source": [
        "test_accuracy = model.evaluate_generator(generator=test_generator, verbose=0)[1]"
      ],
      "execution_count": null,
      "outputs": []
    },
    {
      "cell_type": "code",
      "metadata": {
        "id": "7T9kvzEHmwqB",
        "colab": {
          "base_uri": "https://localhost:8080/",
          "height": 67
        },
        "outputId": "1aa5ff58-b03d-45cc-f84a-71ebe338494e"
      },
      "source": [
        "print(\"Final results:\")\n",
        "print(\"  test accuracy:\\t\\t{:.2f} %\".format(\n",
        "    test_accuracy * 100))\n",
        "\n",
        "if test_accuracy * 100 > 40:\n",
        "    print(\"Achievement unlocked: 110lvl Warlock!\")\n",
        "elif test_accuracy * 100 > 35:\n",
        "    print(\"Achievement unlocked: 80lvl Warlock!\")\n",
        "elif test_accuracy * 100 > 30:\n",
        "    print(\"Achievement unlocked: 70lvl Warlock!\")\n",
        "elif test_accuracy * 100 > 25:\n",
        "    print(\"Achievement unlocked: 60lvl Warlock!\")\n",
        "else:\n",
        "    print(\"We need more magic! Follow instructons below\")"
      ],
      "execution_count": null,
      "outputs": [
        {
          "output_type": "stream",
          "text": [
            "Final results:\n",
            "  test accuracy:\t\t42.43 %\n",
            "Achievement unlocked: 110lvl Warlock!\n"
          ],
          "name": "stdout"
        }
      ]
    },
    {
      "cell_type": "markdown",
      "metadata": {
        "id": "WiIVQZ9emwqE"
      },
      "source": [
        "```\n",
        "\n",
        "```\n",
        "\n",
        "```\n",
        "\n",
        "```\n",
        "\n",
        "```\n",
        "\n",
        "```\n",
        "\n",
        "\n",
        "# Report\n",
        "\n",
        "All creative approaches are highly welcome, but at the very least it would be great to mention\n",
        "* the idea;\n",
        "* brief history of tweaks and improvements;\n",
        "* what is the final architecture and why?\n",
        "* what is the training method and, again, why?\n",
        "* Any regularizations and other techniques applied and their effects;\n",
        "\n",
        "\n",
        "There is no need to write strict mathematical proofs (unless you want to).\n",
        " * \"I tried this, this and this, and the second one turned out to be better. And i just didn't like the name of that one\" - OK, but can be better\n",
        " * \"I have analized these and these articles|sources|blog posts, tried that and that to adapt them to my problem and the conclusions are such and such\" - the ideal one\n",
        " * \"I took that code that demo without understanding it, but i'll never confess that and instead i'll make up some pseudoscientific explaination\" - __not_ok__"
      ]
    },
    {
      "cell_type": "markdown",
      "metadata": {
        "id": "FFqruW9SmwqF"
      },
      "source": [
        "### Hi, my name is `___ ___`, and here's my story\n",
        "\n",
        "A long time ago in a galaxy far far away, when it was still more than an hour before the deadline, i got an idea:\n",
        "\n",
        "##### I gonna build a neural network, that\n",
        "* brief text on what was\n",
        "* the original idea\n",
        "* and why it was so\n",
        "\n",
        "How could i be so naive?!\n",
        "\n",
        "##### One day, with no signs of warning,\n",
        "This thing has finally converged and\n",
        "* Some explaination about what were the results,\n",
        "* what worked and what didn't\n",
        "* most importantly - what next steps were taken, if any\n",
        "* and what were their respective outcomes\n",
        "\n",
        "##### Finally, after __  iterations, __ mugs of [tea/coffee]\n",
        "* what was the final architecture\n",
        "* as well as training method and tricks\n",
        "\n",
        "That, having wasted ____ [minutes, hours or days] of my life training, got\n",
        "\n",
        "* accuracy on training: __\n",
        "* accuracy on validation: __\n",
        "* accuracy on test: __\n",
        "\n",
        "\n",
        "[an optional afterword and mortal curses on assignment authors]"
      ]
    }
  ]
}